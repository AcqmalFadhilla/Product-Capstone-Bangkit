{
 "cells": [
  {
   "attachments": {},
   "cell_type": "markdown",
   "metadata": {},
   "source": [
    "## Problem\n",
    "Menyelesaikan permasalahan searching  untuk mencari tempat wisata berdasarkan kegiatan yang ingin di lakukan"
   ]
  },
  {
   "attachments": {},
   "cell_type": "markdown",
   "metadata": {},
   "source": [
    "<h3>Preparation</h3>"
   ]
  },
  {
   "cell_type": "code",
   "execution_count": 1,
   "metadata": {},
   "outputs": [
    {
     "data": {
      "text/html": [
       "<div>\n",
       "<style scoped>\n",
       "    .dataframe tbody tr th:only-of-type {\n",
       "        vertical-align: middle;\n",
       "    }\n",
       "\n",
       "    .dataframe tbody tr th {\n",
       "        vertical-align: top;\n",
       "    }\n",
       "\n",
       "    .dataframe thead th {\n",
       "        text-align: right;\n",
       "    }\n",
       "</style>\n",
       "<table border=\"1\" class=\"dataframe\">\n",
       "  <thead>\n",
       "    <tr style=\"text-align: right;\">\n",
       "      <th></th>\n",
       "      <th>Kota</th>\n",
       "      <th>Name</th>\n",
       "      <th>Address</th>\n",
       "      <th>Header_image</th>\n",
       "      <th>Rating</th>\n",
       "      <th>Category</th>\n",
       "      <th>Detail_URL</th>\n",
       "      <th>Tags</th>\n",
       "      <th>Latitude</th>\n",
       "      <th>Longitude</th>\n",
       "      <th>Website</th>\n",
       "      <th>Phone</th>\n",
       "      <th>Review</th>\n",
       "      <th>Description</th>\n",
       "    </tr>\n",
       "  </thead>\n",
       "  <tbody>\n",
       "    <tr>\n",
       "      <th>0</th>\n",
       "      <td>bulukumba</td>\n",
       "      <td>kawasan adat kajang ammatoa</td>\n",
       "      <td>Tanah Toa, Kec. Kajang, Kabupaten Bulukumba, S...</td>\n",
       "      <td>https://lh5.googleusercontent.com/p/AF1QipPCW4...</td>\n",
       "      <td>4.7</td>\n",
       "      <td>religi</td>\n",
       "      <td>https://www.google.com/maps/place/Kawasan+Adat...</td>\n",
       "      <td>\\n\"Wisata Budaya yang paling berkesan, udara ...</td>\n",
       "      <td>-53,219,881</td>\n",
       "      <td>1,202,959,252</td>\n",
       "      <td>NaN</td>\n",
       "      <td>NaN</td>\n",
       "      <td>budaya,pakaian,adat istiadat,teknologi,kaki,li...</td>\n",
       "      <td>Kawasan Adat Kajang Ammatoa adalah sebuah kawa...</td>\n",
       "    </tr>\n",
       "    <tr>\n",
       "      <th>1</th>\n",
       "      <td>bulukumba</td>\n",
       "      <td>pantai marumasa</td>\n",
       "      <td>Darubiah, Kec. Bonto Bahari, Kabupaten Bulukum...</td>\n",
       "      <td>https://lh5.googleusercontent.com/p/AF1QipOFb3...</td>\n",
       "      <td>4.4</td>\n",
       "      <td>pantai</td>\n",
       "      <td>https://www.google.com/maps/place/Pantai+Marum...</td>\n",
       "      <td>\\n\"Yang suka wisata pantai, ini juga keren\"</td>\n",
       "      <td>-55,753,658</td>\n",
       "      <td>1,204,593,842</td>\n",
       "      <td>https://pantaitebingmarumasa.wordpress.com/201...</td>\n",
       "      <td>0813-5583-8483</td>\n",
       "      <td>pantainya,foto,pemandangan,tebing,sampah,keind...</td>\n",
       "      <td>Pantai Marumasa adalah sebuah pantai indah yan...</td>\n",
       "    </tr>\n",
       "    <tr>\n",
       "      <th>2</th>\n",
       "      <td>bulukumba</td>\n",
       "      <td>pantai bara, bulukumba</td>\n",
       "      <td>Bira, Kec. Bonto Bahari, Kabupaten Bulukumba, ...</td>\n",
       "      <td>https://lh5.googleusercontent.com/p/AF1QipNvH_...</td>\n",
       "      <td>4.6</td>\n",
       "      <td>danau</td>\n",
       "      <td>https://www.google.com/maps/place/Pantai+Bara,...</td>\n",
       "      <td>\\n\"Tempat wisata yang menyenangkan.\"</td>\n",
       "      <td>-56,082,681</td>\n",
       "      <td>1,204,389,893</td>\n",
       "      <td>NaN</td>\n",
       "      <td>NaN</td>\n",
       "      <td>pasir,air,pemandangan,parkir,banana boat,malam...</td>\n",
       "      <td>Pantai Bara adalah pantai menakjubkan lainnya ...</td>\n",
       "    </tr>\n",
       "    <tr>\n",
       "      <th>3</th>\n",
       "      <td>bulukumba</td>\n",
       "      <td>pantai pulau liukang loe</td>\n",
       "      <td>Bira, Kec. Bonto Bahari, Kabupaten Bulukumba, ...</td>\n",
       "      <td>https://lh5.googleusercontent.com/p/AF1QipPdqP...</td>\n",
       "      <td>4.6</td>\n",
       "      <td>pantai</td>\n",
       "      <td>https://www.google.com/maps/place/Pantai+Pulau...</td>\n",
       "      <td>\\n\"Di pulau ini terdapat penangkaran penyu Da...</td>\n",
       "      <td>-56,409,546</td>\n",
       "      <td>1,204,332,732</td>\n",
       "      <td>NaN</td>\n",
       "      <td>0822-9126-2332</td>\n",
       "      <td>snorkling,penyu,pantai tanjung bira,perahu,pen...</td>\n",
       "      <td>Pantai Pulau Liukang Loe adalah pantai indah y...</td>\n",
       "    </tr>\n",
       "    <tr>\n",
       "      <th>4</th>\n",
       "      <td>bulukumba</td>\n",
       "      <td>puncak pua' janggo'</td>\n",
       "      <td>Bira, Kec. Bonto Bahari, Kabupaten Bulukumba, ...</td>\n",
       "      <td>https://lh5.googleusercontent.com/p/AF1QipP2nE...</td>\n",
       "      <td>4.3</td>\n",
       "      <td>alam</td>\n",
       "      <td>https://www.google.com/maps/place/Puncak+Pua%2...</td>\n",
       "      <td>NaN</td>\n",
       "      <td>-56,083,071</td>\n",
       "      <td>1,204,602,636</td>\n",
       "      <td>NaN</td>\n",
       "      <td>0813-1412-1220</td>\n",
       "      <td>pemandangan,pantai tanjung bira,pelabuhan,moto...</td>\n",
       "      <td>Puncak Pua' Janggo' adalah puncak gunung yang ...</td>\n",
       "    </tr>\n",
       "  </tbody>\n",
       "</table>\n",
       "</div>"
      ],
      "text/plain": [
       "        Kota                         Name   \n",
       "0  bulukumba  kawasan adat kajang ammatoa  \\\n",
       "1  bulukumba              pantai marumasa   \n",
       "2  bulukumba       pantai bara, bulukumba   \n",
       "3  bulukumba     pantai pulau liukang loe   \n",
       "4  bulukumba          puncak pua' janggo'   \n",
       "\n",
       "                                             Address   \n",
       "0  Tanah Toa, Kec. Kajang, Kabupaten Bulukumba, S...  \\\n",
       "1  Darubiah, Kec. Bonto Bahari, Kabupaten Bulukum...   \n",
       "2  Bira, Kec. Bonto Bahari, Kabupaten Bulukumba, ...   \n",
       "3  Bira, Kec. Bonto Bahari, Kabupaten Bulukumba, ...   \n",
       "4  Bira, Kec. Bonto Bahari, Kabupaten Bulukumba, ...   \n",
       "\n",
       "                                        Header_image  Rating Category   \n",
       "0  https://lh5.googleusercontent.com/p/AF1QipPCW4...     4.7   religi  \\\n",
       "1  https://lh5.googleusercontent.com/p/AF1QipOFb3...     4.4   pantai   \n",
       "2  https://lh5.googleusercontent.com/p/AF1QipNvH_...     4.6    danau   \n",
       "3  https://lh5.googleusercontent.com/p/AF1QipPdqP...     4.6   pantai   \n",
       "4  https://lh5.googleusercontent.com/p/AF1QipP2nE...     4.3     alam   \n",
       "\n",
       "                                          Detail_URL   \n",
       "0  https://www.google.com/maps/place/Kawasan+Adat...  \\\n",
       "1  https://www.google.com/maps/place/Pantai+Marum...   \n",
       "2  https://www.google.com/maps/place/Pantai+Bara,...   \n",
       "3  https://www.google.com/maps/place/Pantai+Pulau...   \n",
       "4  https://www.google.com/maps/place/Puncak+Pua%2...   \n",
       "\n",
       "                                                Tags     Latitude   \n",
       "0   \\n\"Wisata Budaya yang paling berkesan, udara ...  -53,219,881  \\\n",
       "1        \\n\"Yang suka wisata pantai, ini juga keren\"  -55,753,658   \n",
       "2               \\n\"Tempat wisata yang menyenangkan.\"  -56,082,681   \n",
       "3   \\n\"Di pulau ini terdapat penangkaran penyu Da...  -56,409,546   \n",
       "4                                                NaN  -56,083,071   \n",
       "\n",
       "       Longitude                                            Website   \n",
       "0  1,202,959,252                                                NaN  \\\n",
       "1  1,204,593,842  https://pantaitebingmarumasa.wordpress.com/201...   \n",
       "2  1,204,389,893                                                NaN   \n",
       "3  1,204,332,732                                                NaN   \n",
       "4  1,204,602,636                                                NaN   \n",
       "\n",
       "            Phone                                             Review   \n",
       "0             NaN  budaya,pakaian,adat istiadat,teknologi,kaki,li...  \\\n",
       "1  0813-5583-8483  pantainya,foto,pemandangan,tebing,sampah,keind...   \n",
       "2             NaN  pasir,air,pemandangan,parkir,banana boat,malam...   \n",
       "3  0822-9126-2332  snorkling,penyu,pantai tanjung bira,perahu,pen...   \n",
       "4  0813-1412-1220  pemandangan,pantai tanjung bira,pelabuhan,moto...   \n",
       "\n",
       "                                         Description  \n",
       "0  Kawasan Adat Kajang Ammatoa adalah sebuah kawa...  \n",
       "1  Pantai Marumasa adalah sebuah pantai indah yan...  \n",
       "2  Pantai Bara adalah pantai menakjubkan lainnya ...  \n",
       "3  Pantai Pulau Liukang Loe adalah pantai indah y...  \n",
       "4  Puncak Pua' Janggo' adalah puncak gunung yang ...  "
      ]
     },
     "execution_count": 1,
     "metadata": {},
     "output_type": "execute_result"
    }
   ],
   "source": [
    "import pandas as pd\n",
    "\n",
    "df = pd.read_csv(\"clean_dataset.csv\")\n",
    "df.head()"
   ]
  },
  {
   "attachments": {},
   "cell_type": "markdown",
   "metadata": {},
   "source": [
    "Membuang field yang tidak terpakai"
   ]
  },
  {
   "cell_type": "code",
   "execution_count": 2,
   "metadata": {},
   "outputs": [
    {
     "data": {
      "text/html": [
       "<div>\n",
       "<style scoped>\n",
       "    .dataframe tbody tr th:only-of-type {\n",
       "        vertical-align: middle;\n",
       "    }\n",
       "\n",
       "    .dataframe tbody tr th {\n",
       "        vertical-align: top;\n",
       "    }\n",
       "\n",
       "    .dataframe thead th {\n",
       "        text-align: right;\n",
       "    }\n",
       "</style>\n",
       "<table border=\"1\" class=\"dataframe\">\n",
       "  <thead>\n",
       "    <tr style=\"text-align: right;\">\n",
       "      <th></th>\n",
       "      <th>Kota</th>\n",
       "      <th>Name</th>\n",
       "      <th>Address</th>\n",
       "      <th>Rating</th>\n",
       "      <th>Category</th>\n",
       "      <th>Review</th>\n",
       "      <th>Description</th>\n",
       "    </tr>\n",
       "  </thead>\n",
       "  <tbody>\n",
       "    <tr>\n",
       "      <th>0</th>\n",
       "      <td>bulukumba</td>\n",
       "      <td>kawasan adat kajang ammatoa</td>\n",
       "      <td>Tanah Toa, Kec. Kajang, Kabupaten Bulukumba, S...</td>\n",
       "      <td>4.7</td>\n",
       "      <td>religi</td>\n",
       "      <td>budaya,pakaian,adat istiadat,teknologi,kaki,li...</td>\n",
       "      <td>Kawasan Adat Kajang Ammatoa adalah sebuah kawa...</td>\n",
       "    </tr>\n",
       "    <tr>\n",
       "      <th>1</th>\n",
       "      <td>bulukumba</td>\n",
       "      <td>pantai marumasa</td>\n",
       "      <td>Darubiah, Kec. Bonto Bahari, Kabupaten Bulukum...</td>\n",
       "      <td>4.4</td>\n",
       "      <td>pantai</td>\n",
       "      <td>pantainya,foto,pemandangan,tebing,sampah,keind...</td>\n",
       "      <td>Pantai Marumasa adalah sebuah pantai indah yan...</td>\n",
       "    </tr>\n",
       "    <tr>\n",
       "      <th>2</th>\n",
       "      <td>bulukumba</td>\n",
       "      <td>pantai bara, bulukumba</td>\n",
       "      <td>Bira, Kec. Bonto Bahari, Kabupaten Bulukumba, ...</td>\n",
       "      <td>4.6</td>\n",
       "      <td>danau</td>\n",
       "      <td>pasir,air,pemandangan,parkir,banana boat,malam...</td>\n",
       "      <td>Pantai Bara adalah pantai menakjubkan lainnya ...</td>\n",
       "    </tr>\n",
       "    <tr>\n",
       "      <th>3</th>\n",
       "      <td>bulukumba</td>\n",
       "      <td>pantai pulau liukang loe</td>\n",
       "      <td>Bira, Kec. Bonto Bahari, Kabupaten Bulukumba, ...</td>\n",
       "      <td>4.6</td>\n",
       "      <td>pantai</td>\n",
       "      <td>snorkling,penyu,pantai tanjung bira,perahu,pen...</td>\n",
       "      <td>Pantai Pulau Liukang Loe adalah pantai indah y...</td>\n",
       "    </tr>\n",
       "    <tr>\n",
       "      <th>4</th>\n",
       "      <td>bulukumba</td>\n",
       "      <td>puncak pua' janggo'</td>\n",
       "      <td>Bira, Kec. Bonto Bahari, Kabupaten Bulukumba, ...</td>\n",
       "      <td>4.3</td>\n",
       "      <td>alam</td>\n",
       "      <td>pemandangan,pantai tanjung bira,pelabuhan,moto...</td>\n",
       "      <td>Puncak Pua' Janggo' adalah puncak gunung yang ...</td>\n",
       "    </tr>\n",
       "  </tbody>\n",
       "</table>\n",
       "</div>"
      ],
      "text/plain": [
       "        Kota                         Name   \n",
       "0  bulukumba  kawasan adat kajang ammatoa  \\\n",
       "1  bulukumba              pantai marumasa   \n",
       "2  bulukumba       pantai bara, bulukumba   \n",
       "3  bulukumba     pantai pulau liukang loe   \n",
       "4  bulukumba          puncak pua' janggo'   \n",
       "\n",
       "                                             Address  Rating Category   \n",
       "0  Tanah Toa, Kec. Kajang, Kabupaten Bulukumba, S...     4.7   religi  \\\n",
       "1  Darubiah, Kec. Bonto Bahari, Kabupaten Bulukum...     4.4   pantai   \n",
       "2  Bira, Kec. Bonto Bahari, Kabupaten Bulukumba, ...     4.6    danau   \n",
       "3  Bira, Kec. Bonto Bahari, Kabupaten Bulukumba, ...     4.6   pantai   \n",
       "4  Bira, Kec. Bonto Bahari, Kabupaten Bulukumba, ...     4.3     alam   \n",
       "\n",
       "                                              Review   \n",
       "0  budaya,pakaian,adat istiadat,teknologi,kaki,li...  \\\n",
       "1  pantainya,foto,pemandangan,tebing,sampah,keind...   \n",
       "2  pasir,air,pemandangan,parkir,banana boat,malam...   \n",
       "3  snorkling,penyu,pantai tanjung bira,perahu,pen...   \n",
       "4  pemandangan,pantai tanjung bira,pelabuhan,moto...   \n",
       "\n",
       "                                         Description  \n",
       "0  Kawasan Adat Kajang Ammatoa adalah sebuah kawa...  \n",
       "1  Pantai Marumasa adalah sebuah pantai indah yan...  \n",
       "2  Pantai Bara adalah pantai menakjubkan lainnya ...  \n",
       "3  Pantai Pulau Liukang Loe adalah pantai indah y...  \n",
       "4  Puncak Pua' Janggo' adalah puncak gunung yang ...  "
      ]
     },
     "execution_count": 2,
     "metadata": {},
     "output_type": "execute_result"
    }
   ],
   "source": [
    "df.drop(columns=[\"Header_image\", \"Detail_URL\", \"Tags\", \"Latitude\", \"Longitude\", \"Website\", \"Phone\"], axis=1, inplace=True)\n",
    "df.head()"
   ]
  },
  {
   "attachments": {},
   "cell_type": "markdown",
   "metadata": {},
   "source": [
    "Menambahkan index untuk mempermudah dalam pencarian"
   ]
  },
  {
   "cell_type": "code",
   "execution_count": 3,
   "metadata": {},
   "outputs": [],
   "source": [
    "df.reset_index(inplace=True)"
   ]
  },
  {
   "cell_type": "code",
   "execution_count": 4,
   "metadata": {},
   "outputs": [
    {
     "data": {
      "text/html": [
       "<div>\n",
       "<style scoped>\n",
       "    .dataframe tbody tr th:only-of-type {\n",
       "        vertical-align: middle;\n",
       "    }\n",
       "\n",
       "    .dataframe tbody tr th {\n",
       "        vertical-align: top;\n",
       "    }\n",
       "\n",
       "    .dataframe thead th {\n",
       "        text-align: right;\n",
       "    }\n",
       "</style>\n",
       "<table border=\"1\" class=\"dataframe\">\n",
       "  <thead>\n",
       "    <tr style=\"text-align: right;\">\n",
       "      <th></th>\n",
       "      <th>index</th>\n",
       "      <th>Kota</th>\n",
       "      <th>Name</th>\n",
       "      <th>Address</th>\n",
       "      <th>Rating</th>\n",
       "      <th>Category</th>\n",
       "      <th>Review</th>\n",
       "      <th>Description</th>\n",
       "    </tr>\n",
       "  </thead>\n",
       "  <tbody>\n",
       "    <tr>\n",
       "      <th>0</th>\n",
       "      <td>0</td>\n",
       "      <td>bulukumba</td>\n",
       "      <td>kawasan adat kajang ammatoa</td>\n",
       "      <td>Tanah Toa, Kec. Kajang, Kabupaten Bulukumba, S...</td>\n",
       "      <td>4.7</td>\n",
       "      <td>religi</td>\n",
       "      <td>budaya,pakaian,adat istiadat,teknologi,kaki,li...</td>\n",
       "      <td>Kawasan Adat Kajang Ammatoa adalah sebuah kawa...</td>\n",
       "    </tr>\n",
       "    <tr>\n",
       "      <th>1</th>\n",
       "      <td>1</td>\n",
       "      <td>bulukumba</td>\n",
       "      <td>pantai marumasa</td>\n",
       "      <td>Darubiah, Kec. Bonto Bahari, Kabupaten Bulukum...</td>\n",
       "      <td>4.4</td>\n",
       "      <td>pantai</td>\n",
       "      <td>pantainya,foto,pemandangan,tebing,sampah,keind...</td>\n",
       "      <td>Pantai Marumasa adalah sebuah pantai indah yan...</td>\n",
       "    </tr>\n",
       "    <tr>\n",
       "      <th>2</th>\n",
       "      <td>2</td>\n",
       "      <td>bulukumba</td>\n",
       "      <td>pantai bara, bulukumba</td>\n",
       "      <td>Bira, Kec. Bonto Bahari, Kabupaten Bulukumba, ...</td>\n",
       "      <td>4.6</td>\n",
       "      <td>danau</td>\n",
       "      <td>pasir,air,pemandangan,parkir,banana boat,malam...</td>\n",
       "      <td>Pantai Bara adalah pantai menakjubkan lainnya ...</td>\n",
       "    </tr>\n",
       "    <tr>\n",
       "      <th>3</th>\n",
       "      <td>3</td>\n",
       "      <td>bulukumba</td>\n",
       "      <td>pantai pulau liukang loe</td>\n",
       "      <td>Bira, Kec. Bonto Bahari, Kabupaten Bulukumba, ...</td>\n",
       "      <td>4.6</td>\n",
       "      <td>pantai</td>\n",
       "      <td>snorkling,penyu,pantai tanjung bira,perahu,pen...</td>\n",
       "      <td>Pantai Pulau Liukang Loe adalah pantai indah y...</td>\n",
       "    </tr>\n",
       "    <tr>\n",
       "      <th>4</th>\n",
       "      <td>4</td>\n",
       "      <td>bulukumba</td>\n",
       "      <td>puncak pua' janggo'</td>\n",
       "      <td>Bira, Kec. Bonto Bahari, Kabupaten Bulukumba, ...</td>\n",
       "      <td>4.3</td>\n",
       "      <td>alam</td>\n",
       "      <td>pemandangan,pantai tanjung bira,pelabuhan,moto...</td>\n",
       "      <td>Puncak Pua' Janggo' adalah puncak gunung yang ...</td>\n",
       "    </tr>\n",
       "  </tbody>\n",
       "</table>\n",
       "</div>"
      ],
      "text/plain": [
       "   index       Kota                         Name   \n",
       "0      0  bulukumba  kawasan adat kajang ammatoa  \\\n",
       "1      1  bulukumba              pantai marumasa   \n",
       "2      2  bulukumba       pantai bara, bulukumba   \n",
       "3      3  bulukumba     pantai pulau liukang loe   \n",
       "4      4  bulukumba          puncak pua' janggo'   \n",
       "\n",
       "                                             Address  Rating Category   \n",
       "0  Tanah Toa, Kec. Kajang, Kabupaten Bulukumba, S...     4.7   religi  \\\n",
       "1  Darubiah, Kec. Bonto Bahari, Kabupaten Bulukum...     4.4   pantai   \n",
       "2  Bira, Kec. Bonto Bahari, Kabupaten Bulukumba, ...     4.6    danau   \n",
       "3  Bira, Kec. Bonto Bahari, Kabupaten Bulukumba, ...     4.6   pantai   \n",
       "4  Bira, Kec. Bonto Bahari, Kabupaten Bulukumba, ...     4.3     alam   \n",
       "\n",
       "                                              Review   \n",
       "0  budaya,pakaian,adat istiadat,teknologi,kaki,li...  \\\n",
       "1  pantainya,foto,pemandangan,tebing,sampah,keind...   \n",
       "2  pasir,air,pemandangan,parkir,banana boat,malam...   \n",
       "3  snorkling,penyu,pantai tanjung bira,perahu,pen...   \n",
       "4  pemandangan,pantai tanjung bira,pelabuhan,moto...   \n",
       "\n",
       "                                         Description  \n",
       "0  Kawasan Adat Kajang Ammatoa adalah sebuah kawa...  \n",
       "1  Pantai Marumasa adalah sebuah pantai indah yan...  \n",
       "2  Pantai Bara adalah pantai menakjubkan lainnya ...  \n",
       "3  Pantai Pulau Liukang Loe adalah pantai indah y...  \n",
       "4  Puncak Pua' Janggo' adalah puncak gunung yang ...  "
      ]
     },
     "execution_count": 4,
     "metadata": {},
     "output_type": "execute_result"
    }
   ],
   "source": [
    "df.head()"
   ]
  },
  {
   "attachments": {},
   "cell_type": "markdown",
   "metadata": {},
   "source": [
    "Mengganti nama field untuk mudah di mengerti"
   ]
  },
  {
   "cell_type": "code",
   "execution_count": 5,
   "metadata": {},
   "outputs": [],
   "source": [
    "df.rename(columns={\n",
    "    \"index\" : \"id\",\n",
    "    \"Kota\": \"kota\",\n",
    "    \"Name\" : \"nama\",\n",
    "    \"Address\" : \"jalan\",\n",
    "    \"Rating\": \"rating\",\n",
    "    \"Category\": \"kategori\",\n",
    "    \"Review\": \"review\",\n",
    "    \"Description\": \"deskripsi\"\n",
    "    }, inplace=True)"
   ]
  },
  {
   "cell_type": "code",
   "execution_count": 6,
   "metadata": {},
   "outputs": [
    {
     "data": {
      "text/html": [
       "<div>\n",
       "<style scoped>\n",
       "    .dataframe tbody tr th:only-of-type {\n",
       "        vertical-align: middle;\n",
       "    }\n",
       "\n",
       "    .dataframe tbody tr th {\n",
       "        vertical-align: top;\n",
       "    }\n",
       "\n",
       "    .dataframe thead th {\n",
       "        text-align: right;\n",
       "    }\n",
       "</style>\n",
       "<table border=\"1\" class=\"dataframe\">\n",
       "  <thead>\n",
       "    <tr style=\"text-align: right;\">\n",
       "      <th></th>\n",
       "      <th>id</th>\n",
       "      <th>kota</th>\n",
       "      <th>nama</th>\n",
       "      <th>jalan</th>\n",
       "      <th>rating</th>\n",
       "      <th>kategori</th>\n",
       "      <th>review</th>\n",
       "      <th>deskripsi</th>\n",
       "    </tr>\n",
       "  </thead>\n",
       "  <tbody>\n",
       "    <tr>\n",
       "      <th>0</th>\n",
       "      <td>0</td>\n",
       "      <td>bulukumba</td>\n",
       "      <td>kawasan adat kajang ammatoa</td>\n",
       "      <td>Tanah Toa, Kec. Kajang, Kabupaten Bulukumba, S...</td>\n",
       "      <td>4.7</td>\n",
       "      <td>religi</td>\n",
       "      <td>budaya,pakaian,adat istiadat,teknologi,kaki,li...</td>\n",
       "      <td>Kawasan Adat Kajang Ammatoa adalah sebuah kawa...</td>\n",
       "    </tr>\n",
       "    <tr>\n",
       "      <th>1</th>\n",
       "      <td>1</td>\n",
       "      <td>bulukumba</td>\n",
       "      <td>pantai marumasa</td>\n",
       "      <td>Darubiah, Kec. Bonto Bahari, Kabupaten Bulukum...</td>\n",
       "      <td>4.4</td>\n",
       "      <td>pantai</td>\n",
       "      <td>pantainya,foto,pemandangan,tebing,sampah,keind...</td>\n",
       "      <td>Pantai Marumasa adalah sebuah pantai indah yan...</td>\n",
       "    </tr>\n",
       "    <tr>\n",
       "      <th>2</th>\n",
       "      <td>2</td>\n",
       "      <td>bulukumba</td>\n",
       "      <td>pantai bara, bulukumba</td>\n",
       "      <td>Bira, Kec. Bonto Bahari, Kabupaten Bulukumba, ...</td>\n",
       "      <td>4.6</td>\n",
       "      <td>danau</td>\n",
       "      <td>pasir,air,pemandangan,parkir,banana boat,malam...</td>\n",
       "      <td>Pantai Bara adalah pantai menakjubkan lainnya ...</td>\n",
       "    </tr>\n",
       "    <tr>\n",
       "      <th>3</th>\n",
       "      <td>3</td>\n",
       "      <td>bulukumba</td>\n",
       "      <td>pantai pulau liukang loe</td>\n",
       "      <td>Bira, Kec. Bonto Bahari, Kabupaten Bulukumba, ...</td>\n",
       "      <td>4.6</td>\n",
       "      <td>pantai</td>\n",
       "      <td>snorkling,penyu,pantai tanjung bira,perahu,pen...</td>\n",
       "      <td>Pantai Pulau Liukang Loe adalah pantai indah y...</td>\n",
       "    </tr>\n",
       "    <tr>\n",
       "      <th>4</th>\n",
       "      <td>4</td>\n",
       "      <td>bulukumba</td>\n",
       "      <td>puncak pua' janggo'</td>\n",
       "      <td>Bira, Kec. Bonto Bahari, Kabupaten Bulukumba, ...</td>\n",
       "      <td>4.3</td>\n",
       "      <td>alam</td>\n",
       "      <td>pemandangan,pantai tanjung bira,pelabuhan,moto...</td>\n",
       "      <td>Puncak Pua' Janggo' adalah puncak gunung yang ...</td>\n",
       "    </tr>\n",
       "  </tbody>\n",
       "</table>\n",
       "</div>"
      ],
      "text/plain": [
       "   id       kota                         nama   \n",
       "0   0  bulukumba  kawasan adat kajang ammatoa  \\\n",
       "1   1  bulukumba              pantai marumasa   \n",
       "2   2  bulukumba       pantai bara, bulukumba   \n",
       "3   3  bulukumba     pantai pulau liukang loe   \n",
       "4   4  bulukumba          puncak pua' janggo'   \n",
       "\n",
       "                                               jalan  rating kategori   \n",
       "0  Tanah Toa, Kec. Kajang, Kabupaten Bulukumba, S...     4.7   religi  \\\n",
       "1  Darubiah, Kec. Bonto Bahari, Kabupaten Bulukum...     4.4   pantai   \n",
       "2  Bira, Kec. Bonto Bahari, Kabupaten Bulukumba, ...     4.6    danau   \n",
       "3  Bira, Kec. Bonto Bahari, Kabupaten Bulukumba, ...     4.6   pantai   \n",
       "4  Bira, Kec. Bonto Bahari, Kabupaten Bulukumba, ...     4.3     alam   \n",
       "\n",
       "                                              review   \n",
       "0  budaya,pakaian,adat istiadat,teknologi,kaki,li...  \\\n",
       "1  pantainya,foto,pemandangan,tebing,sampah,keind...   \n",
       "2  pasir,air,pemandangan,parkir,banana boat,malam...   \n",
       "3  snorkling,penyu,pantai tanjung bira,perahu,pen...   \n",
       "4  pemandangan,pantai tanjung bira,pelabuhan,moto...   \n",
       "\n",
       "                                           deskripsi  \n",
       "0  Kawasan Adat Kajang Ammatoa adalah sebuah kawa...  \n",
       "1  Pantai Marumasa adalah sebuah pantai indah yan...  \n",
       "2  Pantai Bara adalah pantai menakjubkan lainnya ...  \n",
       "3  Pantai Pulau Liukang Loe adalah pantai indah y...  \n",
       "4  Puncak Pua' Janggo' adalah puncak gunung yang ...  "
      ]
     },
     "execution_count": 6,
     "metadata": {},
     "output_type": "execute_result"
    }
   ],
   "source": [
    "df.head()"
   ]
  },
  {
   "cell_type": "code",
   "execution_count": 6,
   "metadata": {},
   "outputs": [
    {
     "data": {
      "text/html": [
       "<div>\n",
       "<style scoped>\n",
       "    .dataframe tbody tr th:only-of-type {\n",
       "        vertical-align: middle;\n",
       "    }\n",
       "\n",
       "    .dataframe tbody tr th {\n",
       "        vertical-align: top;\n",
       "    }\n",
       "\n",
       "    .dataframe thead th {\n",
       "        text-align: right;\n",
       "    }\n",
       "</style>\n",
       "<table border=\"1\" class=\"dataframe\">\n",
       "  <thead>\n",
       "    <tr style=\"text-align: right;\">\n",
       "      <th></th>\n",
       "      <th>id</th>\n",
       "      <th>kota</th>\n",
       "      <th>nama</th>\n",
       "      <th>jalan</th>\n",
       "      <th>rating</th>\n",
       "      <th>kategori</th>\n",
       "      <th>review</th>\n",
       "      <th>deskripsi</th>\n",
       "    </tr>\n",
       "  </thead>\n",
       "  <tbody>\n",
       "    <tr>\n",
       "      <th>0</th>\n",
       "      <td>0</td>\n",
       "      <td>bulukumba</td>\n",
       "      <td>kawasan adat kajang ammatoa</td>\n",
       "      <td>tanah toa, kec. kajang, kabupaten bulukumba, s...</td>\n",
       "      <td>4.7</td>\n",
       "      <td>religi</td>\n",
       "      <td>budaya,pakaian,adat istiadat,teknologi,kaki,li...</td>\n",
       "      <td>kawasan adat kajang ammatoa adalah sebuah kawa...</td>\n",
       "    </tr>\n",
       "    <tr>\n",
       "      <th>1</th>\n",
       "      <td>1</td>\n",
       "      <td>bulukumba</td>\n",
       "      <td>pantai marumasa</td>\n",
       "      <td>darubiah, kec. bonto bahari, kabupaten bulukum...</td>\n",
       "      <td>4.4</td>\n",
       "      <td>pantai</td>\n",
       "      <td>pantainya,foto,pemandangan,tebing,sampah,keind...</td>\n",
       "      <td>pantai marumasa adalah sebuah pantai indah yan...</td>\n",
       "    </tr>\n",
       "    <tr>\n",
       "      <th>2</th>\n",
       "      <td>2</td>\n",
       "      <td>bulukumba</td>\n",
       "      <td>pantai bara, bulukumba</td>\n",
       "      <td>bira, kec. bonto bahari, kabupaten bulukumba, ...</td>\n",
       "      <td>4.6</td>\n",
       "      <td>danau</td>\n",
       "      <td>pasir,air,pemandangan,parkir,banana boat,malam...</td>\n",
       "      <td>pantai bara adalah pantai menakjubkan lainnya ...</td>\n",
       "    </tr>\n",
       "    <tr>\n",
       "      <th>3</th>\n",
       "      <td>3</td>\n",
       "      <td>bulukumba</td>\n",
       "      <td>pantai pulau liukang loe</td>\n",
       "      <td>bira, kec. bonto bahari, kabupaten bulukumba, ...</td>\n",
       "      <td>4.6</td>\n",
       "      <td>pantai</td>\n",
       "      <td>snorkling,penyu,pantai tanjung bira,perahu,pen...</td>\n",
       "      <td>pantai pulau liukang loe adalah pantai indah y...</td>\n",
       "    </tr>\n",
       "    <tr>\n",
       "      <th>4</th>\n",
       "      <td>4</td>\n",
       "      <td>bulukumba</td>\n",
       "      <td>puncak pua' janggo'</td>\n",
       "      <td>bira, kec. bonto bahari, kabupaten bulukumba, ...</td>\n",
       "      <td>4.3</td>\n",
       "      <td>alam</td>\n",
       "      <td>pemandangan,pantai tanjung bira,pelabuhan,moto...</td>\n",
       "      <td>puncak pua' janggo' adalah puncak gunung yang ...</td>\n",
       "    </tr>\n",
       "  </tbody>\n",
       "</table>\n",
       "</div>"
      ],
      "text/plain": [
       "   id       kota                         nama   \n",
       "0   0  bulukumba  kawasan adat kajang ammatoa  \\\n",
       "1   1  bulukumba              pantai marumasa   \n",
       "2   2  bulukumba       pantai bara, bulukumba   \n",
       "3   3  bulukumba     pantai pulau liukang loe   \n",
       "4   4  bulukumba          puncak pua' janggo'   \n",
       "\n",
       "                                               jalan  rating kategori   \n",
       "0  tanah toa, kec. kajang, kabupaten bulukumba, s...     4.7   religi  \\\n",
       "1  darubiah, kec. bonto bahari, kabupaten bulukum...     4.4   pantai   \n",
       "2  bira, kec. bonto bahari, kabupaten bulukumba, ...     4.6    danau   \n",
       "3  bira, kec. bonto bahari, kabupaten bulukumba, ...     4.6   pantai   \n",
       "4  bira, kec. bonto bahari, kabupaten bulukumba, ...     4.3     alam   \n",
       "\n",
       "                                              review   \n",
       "0  budaya,pakaian,adat istiadat,teknologi,kaki,li...  \\\n",
       "1  pantainya,foto,pemandangan,tebing,sampah,keind...   \n",
       "2  pasir,air,pemandangan,parkir,banana boat,malam...   \n",
       "3  snorkling,penyu,pantai tanjung bira,perahu,pen...   \n",
       "4  pemandangan,pantai tanjung bira,pelabuhan,moto...   \n",
       "\n",
       "                                           deskripsi  \n",
       "0  kawasan adat kajang ammatoa adalah sebuah kawa...  \n",
       "1  pantai marumasa adalah sebuah pantai indah yan...  \n",
       "2  pantai bara adalah pantai menakjubkan lainnya ...  \n",
       "3  pantai pulau liukang loe adalah pantai indah y...  \n",
       "4  puncak pua' janggo' adalah puncak gunung yang ...  "
      ]
     },
     "execution_count": 6,
     "metadata": {},
     "output_type": "execute_result"
    }
   ],
   "source": [
    "df[\"kota\"] = df[\"kota\"].str.lower()\n",
    "df[\"nama\"] = df[\"nama\"].str.lower()\n",
    "df[\"jalan\"] = df[\"jalan\"].str.lower()\n",
    "df[\"kategori\"] = df[\"kategori\"].str.lower()\n",
    "df[\"review\"] = df[\"review\"].str.lower()\n",
    "df[\"deskripsi\"] = df[\"deskripsi\"].str.lower()\n",
    "df.head()"
   ]
  },
  {
   "attachments": {},
   "cell_type": "markdown",
   "metadata": {},
   "source": [
    "<h3>Cek field yang kosong</h3>"
   ]
  },
  {
   "cell_type": "code",
   "execution_count": 7,
   "metadata": {},
   "outputs": [
    {
     "data": {
      "text/plain": [
       "id           0\n",
       "kota         0\n",
       "nama         0\n",
       "jalan        0\n",
       "rating       0\n",
       "kategori     0\n",
       "review       0\n",
       "deskripsi    1\n",
       "dtype: int64"
      ]
     },
     "execution_count": 7,
     "metadata": {},
     "output_type": "execute_result"
    }
   ],
   "source": [
    "df.isnull().sum()"
   ]
  },
  {
   "cell_type": "code",
   "execution_count": 8,
   "metadata": {},
   "outputs": [
    {
     "data": {
      "text/html": [
       "<div>\n",
       "<style scoped>\n",
       "    .dataframe tbody tr th:only-of-type {\n",
       "        vertical-align: middle;\n",
       "    }\n",
       "\n",
       "    .dataframe tbody tr th {\n",
       "        vertical-align: top;\n",
       "    }\n",
       "\n",
       "    .dataframe thead th {\n",
       "        text-align: right;\n",
       "    }\n",
       "</style>\n",
       "<table border=\"1\" class=\"dataframe\">\n",
       "  <thead>\n",
       "    <tr style=\"text-align: right;\">\n",
       "      <th></th>\n",
       "      <th>id</th>\n",
       "      <th>kota</th>\n",
       "      <th>nama</th>\n",
       "      <th>jalan</th>\n",
       "      <th>rating</th>\n",
       "      <th>kategori</th>\n",
       "      <th>review</th>\n",
       "      <th>deskripsi</th>\n",
       "    </tr>\n",
       "  </thead>\n",
       "  <tbody>\n",
       "    <tr>\n",
       "      <th>165</th>\n",
       "      <td>165</td>\n",
       "      <td>pinrang</td>\n",
       "      <td>pantai lowita - vila mutiara</td>\n",
       "      <td>jl. poros ujung lero, tasiwalie, kec. suppa, k...</td>\n",
       "      <td>4.4</td>\n",
       "      <td>pantai</td>\n",
       "      <td>keluarga,pantainya,rekreasi,airnya</td>\n",
       "      <td>NaN</td>\n",
       "    </tr>\n",
       "  </tbody>\n",
       "</table>\n",
       "</div>"
      ],
      "text/plain": [
       "      id     kota                          nama   \n",
       "165  165  pinrang  pantai lowita - vila mutiara  \\\n",
       "\n",
       "                                                 jalan  rating kategori   \n",
       "165  jl. poros ujung lero, tasiwalie, kec. suppa, k...     4.4   pantai  \\\n",
       "\n",
       "                                 review deskripsi  \n",
       "165  keluarga,pantainya,rekreasi,airnya       NaN  "
      ]
     },
     "execution_count": 8,
     "metadata": {},
     "output_type": "execute_result"
    }
   ],
   "source": [
    "df[df[\"deskripsi\"].isnull()]"
   ]
  },
  {
   "cell_type": "code",
   "execution_count": 9,
   "metadata": {},
   "outputs": [],
   "source": [
    "df.loc[165, \"deskripsi\"] = \"Pantai Lowita Vila Mutiara adalah sebuah destinasi pantai yang menakjubkan dan indah yang terletak di tepi pantai yang memukau di wilayah Lowita. Terletak di sebuah kawasan yang tenang dan alami, pantai ini menawarkan pemandangan yang menakjubkan dari laut biru yang jernih, pasir putih yang halus, dan pohon-pohon kokoh yang menghiasi garis pantainya.\""
   ]
  },
  {
   "cell_type": "code",
   "execution_count": 10,
   "metadata": {},
   "outputs": [
    {
     "data": {
      "text/plain": [
       "id           0\n",
       "kota         0\n",
       "nama         0\n",
       "jalan        0\n",
       "rating       0\n",
       "kategori     0\n",
       "review       0\n",
       "deskripsi    0\n",
       "dtype: int64"
      ]
     },
     "execution_count": 10,
     "metadata": {},
     "output_type": "execute_result"
    }
   ],
   "source": [
    "df.isnull().sum()"
   ]
  },
  {
   "cell_type": "code",
   "execution_count": 11,
   "metadata": {},
   "outputs": [
    {
     "data": {
      "text/html": [
       "<div>\n",
       "<style scoped>\n",
       "    .dataframe tbody tr th:only-of-type {\n",
       "        vertical-align: middle;\n",
       "    }\n",
       "\n",
       "    .dataframe tbody tr th {\n",
       "        vertical-align: top;\n",
       "    }\n",
       "\n",
       "    .dataframe thead th {\n",
       "        text-align: right;\n",
       "    }\n",
       "</style>\n",
       "<table border=\"1\" class=\"dataframe\">\n",
       "  <thead>\n",
       "    <tr style=\"text-align: right;\">\n",
       "      <th></th>\n",
       "      <th>id</th>\n",
       "      <th>kota</th>\n",
       "      <th>nama</th>\n",
       "      <th>jalan</th>\n",
       "      <th>rating</th>\n",
       "      <th>kategori</th>\n",
       "      <th>review</th>\n",
       "      <th>deskripsi</th>\n",
       "    </tr>\n",
       "  </thead>\n",
       "  <tbody>\n",
       "    <tr>\n",
       "      <th>0</th>\n",
       "      <td>0</td>\n",
       "      <td>bulukumba</td>\n",
       "      <td>kawasan adat kajang ammatoa</td>\n",
       "      <td>tanah toa, kec. kajang, kabupaten bulukumba, s...</td>\n",
       "      <td>4.7</td>\n",
       "      <td>religi</td>\n",
       "      <td>budaya,pakaian,adat istiadat,teknologi,kaki,li...</td>\n",
       "      <td>kawasan adat kajang ammatoa adalah sebuah kawa...</td>\n",
       "    </tr>\n",
       "    <tr>\n",
       "      <th>1</th>\n",
       "      <td>1</td>\n",
       "      <td>bulukumba</td>\n",
       "      <td>pantai marumasa</td>\n",
       "      <td>darubiah, kec. bonto bahari, kabupaten bulukum...</td>\n",
       "      <td>4.4</td>\n",
       "      <td>pantai</td>\n",
       "      <td>pantainya,foto,pemandangan,tebing,sampah,keind...</td>\n",
       "      <td>pantai marumasa adalah sebuah pantai indah yan...</td>\n",
       "    </tr>\n",
       "    <tr>\n",
       "      <th>2</th>\n",
       "      <td>2</td>\n",
       "      <td>bulukumba</td>\n",
       "      <td>pantai bara, bulukumba</td>\n",
       "      <td>bira, kec. bonto bahari, kabupaten bulukumba, ...</td>\n",
       "      <td>4.6</td>\n",
       "      <td>danau</td>\n",
       "      <td>pasir,air,pemandangan,parkir,banana boat,malam...</td>\n",
       "      <td>pantai bara adalah pantai menakjubkan lainnya ...</td>\n",
       "    </tr>\n",
       "    <tr>\n",
       "      <th>3</th>\n",
       "      <td>3</td>\n",
       "      <td>bulukumba</td>\n",
       "      <td>pantai pulau liukang loe</td>\n",
       "      <td>bira, kec. bonto bahari, kabupaten bulukumba, ...</td>\n",
       "      <td>4.6</td>\n",
       "      <td>pantai</td>\n",
       "      <td>snorkling,penyu,pantai tanjung bira,perahu,pen...</td>\n",
       "      <td>pantai pulau liukang loe adalah pantai indah y...</td>\n",
       "    </tr>\n",
       "    <tr>\n",
       "      <th>4</th>\n",
       "      <td>4</td>\n",
       "      <td>bulukumba</td>\n",
       "      <td>puncak pua' janggo'</td>\n",
       "      <td>bira, kec. bonto bahari, kabupaten bulukumba, ...</td>\n",
       "      <td>4.3</td>\n",
       "      <td>alam</td>\n",
       "      <td>pemandangan,pantai tanjung bira,pelabuhan,moto...</td>\n",
       "      <td>puncak pua' janggo' adalah puncak gunung yang ...</td>\n",
       "    </tr>\n",
       "  </tbody>\n",
       "</table>\n",
       "</div>"
      ],
      "text/plain": [
       "   id       kota                         nama   \n",
       "0   0  bulukumba  kawasan adat kajang ammatoa  \\\n",
       "1   1  bulukumba              pantai marumasa   \n",
       "2   2  bulukumba       pantai bara, bulukumba   \n",
       "3   3  bulukumba     pantai pulau liukang loe   \n",
       "4   4  bulukumba          puncak pua' janggo'   \n",
       "\n",
       "                                               jalan  rating kategori   \n",
       "0  tanah toa, kec. kajang, kabupaten bulukumba, s...     4.7   religi  \\\n",
       "1  darubiah, kec. bonto bahari, kabupaten bulukum...     4.4   pantai   \n",
       "2  bira, kec. bonto bahari, kabupaten bulukumba, ...     4.6    danau   \n",
       "3  bira, kec. bonto bahari, kabupaten bulukumba, ...     4.6   pantai   \n",
       "4  bira, kec. bonto bahari, kabupaten bulukumba, ...     4.3     alam   \n",
       "\n",
       "                                              review   \n",
       "0  budaya,pakaian,adat istiadat,teknologi,kaki,li...  \\\n",
       "1  pantainya,foto,pemandangan,tebing,sampah,keind...   \n",
       "2  pasir,air,pemandangan,parkir,banana boat,malam...   \n",
       "3  snorkling,penyu,pantai tanjung bira,perahu,pen...   \n",
       "4  pemandangan,pantai tanjung bira,pelabuhan,moto...   \n",
       "\n",
       "                                           deskripsi  \n",
       "0  kawasan adat kajang ammatoa adalah sebuah kawa...  \n",
       "1  pantai marumasa adalah sebuah pantai indah yan...  \n",
       "2  pantai bara adalah pantai menakjubkan lainnya ...  \n",
       "3  pantai pulau liukang loe adalah pantai indah y...  \n",
       "4  puncak pua' janggo' adalah puncak gunung yang ...  "
      ]
     },
     "execution_count": 11,
     "metadata": {},
     "output_type": "execute_result"
    }
   ],
   "source": [
    "df.head()"
   ]
  },
  {
   "attachments": {},
   "cell_type": "markdown",
   "metadata": {},
   "source": [
    "<h3>Mengecek kategori</h3>"
   ]
  },
  {
   "attachments": {},
   "cell_type": "markdown",
   "metadata": {},
   "source": [
    "kategori yang valid:<ol>\n",
    "<li>alam</li>\n",
    "<li>pantai</li>\n",
    "<li>tanaman</li>\n",
    "<li>Permandian</li>\n",
    "<li>Museum</li>\n",
    "<li>air terjun</li>\n",
    "<li>religi</li>\n",
    "<li>danau</li>\n",
    "</ol>"
   ]
  },
  {
   "cell_type": "code",
   "execution_count": 12,
   "metadata": {},
   "outputs": [
    {
     "data": {
      "text/plain": [
       "<Axes: xlabel='kategori'>"
      ]
     },
     "execution_count": 12,
     "metadata": {},
     "output_type": "execute_result"
    },
    {
     "data": {
      "image/png": "[encoded data removed]",
      "text/plain": [
       "<Figure size 640x480 with 1 Axes>"
      ]
     },
     "metadata": {},
     "output_type": "display_data"
    }
   ],
   "source": [
    "df[\"kategori\"].value_counts().plot.bar()"
   ]
  },
  {
   "cell_type": "code",
   "execution_count": 13,
   "metadata": {},
   "outputs": [
    {
     "data": {
      "text/html": [
       "<div>\n",
       "<style scoped>\n",
       "    .dataframe tbody tr th:only-of-type {\n",
       "        vertical-align: middle;\n",
       "    }\n",
       "\n",
       "    .dataframe tbody tr th {\n",
       "        vertical-align: top;\n",
       "    }\n",
       "\n",
       "    .dataframe thead th {\n",
       "        text-align: right;\n",
       "    }\n",
       "</style>\n",
       "<table border=\"1\" class=\"dataframe\">\n",
       "  <thead>\n",
       "    <tr style=\"text-align: right;\">\n",
       "      <th></th>\n",
       "      <th>id</th>\n",
       "      <th>kota</th>\n",
       "      <th>nama</th>\n",
       "      <th>jalan</th>\n",
       "      <th>rating</th>\n",
       "      <th>kategori</th>\n",
       "      <th>review</th>\n",
       "      <th>deskripsi</th>\n",
       "    </tr>\n",
       "  </thead>\n",
       "  <tbody>\n",
       "    <tr>\n",
       "      <th>22</th>\n",
       "      <td>22</td>\n",
       "      <td>bone</td>\n",
       "      <td>permandian jompi'e</td>\n",
       "      <td>liliriawang, kec. bengo, kabupaten bone, sulaw...</td>\n",
       "      <td>4.2</td>\n",
       "      <td>tujuan wisata</td>\n",
       "      <td>kebersihan,pemandangan,anak,airnya</td>\n",
       "      <td>permandian jompi'e adalah destinasi wisata yan...</td>\n",
       "    </tr>\n",
       "    <tr>\n",
       "      <th>55</th>\n",
       "      <td>55</td>\n",
       "      <td>makassar</td>\n",
       "      <td>pantai tanjung barat barombong</td>\n",
       "      <td>barombong, kec. tamalate, kota makassar, sulaw...</td>\n",
       "      <td>4.4</td>\n",
       "      <td>tujuan wisata</td>\n",
       "      <td>sampah,laut,mandi,sunset,kebersihan,pemandanga...</td>\n",
       "      <td>pantai tanjung barat barombong adalah sebuah p...</td>\n",
       "    </tr>\n",
       "    <tr>\n",
       "      <th>94</th>\n",
       "      <td>94</td>\n",
       "      <td>pinrang</td>\n",
       "      <td>pantai harapan ammani</td>\n",
       "      <td>pantai harapan ammani, mattiro tasi, kec. matt...</td>\n",
       "      <td>4.2</td>\n",
       "      <td>tujuan wisata</td>\n",
       "      <td>keluarga,pantainya,ikan bakar,karaoke,seafood,...</td>\n",
       "      <td>pantai harapan ammani adalah sebuah pantai yan...</td>\n",
       "    </tr>\n",
       "    <tr>\n",
       "      <th>140</th>\n",
       "      <td>140</td>\n",
       "      <td>toraja utara</td>\n",
       "      <td>objek wisata palawa'</td>\n",
       "      <td>palawa', kec. sesean, kabupaten toraja utara, ...</td>\n",
       "      <td>4.4</td>\n",
       "      <td>tujuan wisata</td>\n",
       "      <td>tongkonan,rumah adat,atap,desa,lumbung padi,up...</td>\n",
       "      <td>objek wisata palawa' adalah sebuah tempat wisa...</td>\n",
       "    </tr>\n",
       "  </tbody>\n",
       "</table>\n",
       "</div>"
      ],
      "text/plain": [
       "      id          kota                            nama   \n",
       "22    22          bone              permandian jompi'e  \\\n",
       "55    55      makassar  pantai tanjung barat barombong   \n",
       "94    94       pinrang           pantai harapan ammani   \n",
       "140  140  toraja utara            objek wisata palawa'   \n",
       "\n",
       "                                                 jalan  rating       kategori   \n",
       "22   liliriawang, kec. bengo, kabupaten bone, sulaw...     4.2  tujuan wisata  \\\n",
       "55   barombong, kec. tamalate, kota makassar, sulaw...     4.4  tujuan wisata   \n",
       "94   pantai harapan ammani, mattiro tasi, kec. matt...     4.2  tujuan wisata   \n",
       "140  palawa', kec. sesean, kabupaten toraja utara, ...     4.4  tujuan wisata   \n",
       "\n",
       "                                                review   \n",
       "22                  kebersihan,pemandangan,anak,airnya  \\\n",
       "55   sampah,laut,mandi,sunset,kebersihan,pemandanga...   \n",
       "94   keluarga,pantainya,ikan bakar,karaoke,seafood,...   \n",
       "140  tongkonan,rumah adat,atap,desa,lumbung padi,up...   \n",
       "\n",
       "                                             deskripsi  \n",
       "22   permandian jompi'e adalah destinasi wisata yan...  \n",
       "55   pantai tanjung barat barombong adalah sebuah p...  \n",
       "94   pantai harapan ammani adalah sebuah pantai yan...  \n",
       "140  objek wisata palawa' adalah sebuah tempat wisa...  "
      ]
     },
     "execution_count": 13,
     "metadata": {},
     "output_type": "execute_result"
    }
   ],
   "source": [
    "df[df[\"kategori\"] == \"tujuan wisata\"]"
   ]
  },
  {
   "cell_type": "code",
   "execution_count": 15,
   "metadata": {},
   "outputs": [],
   "source": [
    "df.at[22, \"kategori\"] = \"permandian\"\n",
    "df.at[55, \"kategori\"] = \"pantai\"\n",
    "df.at[94, \"kategori\"] = \"pantai\"\n",
    "df.at[140, \"kategori\"] = \"alam\""
   ]
  },
  {
   "cell_type": "code",
   "execution_count": null,
   "metadata": {},
   "outputs": [],
   "source": [
    "df[df[\"nama\"] = \"objek wisata palawa\"]"
   ]
  },
  {
   "cell_type": "code",
   "execution_count": 16,
   "metadata": {},
   "outputs": [
    {
     "data": {
      "text/html": [
       "<div>\n",
       "<style scoped>\n",
       "    .dataframe tbody tr th:only-of-type {\n",
       "        vertical-align: middle;\n",
       "    }\n",
       "\n",
       "    .dataframe tbody tr th {\n",
       "        vertical-align: top;\n",
       "    }\n",
       "\n",
       "    .dataframe thead th {\n",
       "        text-align: right;\n",
       "    }\n",
       "</style>\n",
       "<table border=\"1\" class=\"dataframe\">\n",
       "  <thead>\n",
       "    <tr style=\"text-align: right;\">\n",
       "      <th></th>\n",
       "      <th>id</th>\n",
       "      <th>kota</th>\n",
       "      <th>nama</th>\n",
       "      <th>jalan</th>\n",
       "      <th>rating</th>\n",
       "      <th>kategori</th>\n",
       "      <th>review</th>\n",
       "      <th>deskripsi</th>\n",
       "    </tr>\n",
       "  </thead>\n",
       "  <tbody>\n",
       "    <tr>\n",
       "      <th>36</th>\n",
       "      <td>36</td>\n",
       "      <td>bantaeng</td>\n",
       "      <td>kolam renang erbol (ere borong lompoa indah)</td>\n",
       "      <td>campaga, kec. tompobulu, kabupaten bantaeng, s...</td>\n",
       "      <td>4.3</td>\n",
       "      <td>kolam renang</td>\n",
       "      <td>dingin,wisata,parkir,mata air,rumah,luas,dewas...</td>\n",
       "      <td>kolam renang erbol (ere borong lompoa indah) a...</td>\n",
       "    </tr>\n",
       "  </tbody>\n",
       "</table>\n",
       "</div>"
      ],
      "text/plain": [
       "    id      kota                                          nama   \n",
       "36  36  bantaeng  kolam renang erbol (ere borong lompoa indah)  \\\n",
       "\n",
       "                                                jalan  rating      kategori   \n",
       "36  campaga, kec. tompobulu, kabupaten bantaeng, s...     4.3  kolam renang  \\\n",
       "\n",
       "                                               review   \n",
       "36  dingin,wisata,parkir,mata air,rumah,luas,dewas...  \\\n",
       "\n",
       "                                            deskripsi  \n",
       "36  kolam renang erbol (ere borong lompoa indah) a...  "
      ]
     },
     "execution_count": 16,
     "metadata": {},
     "output_type": "execute_result"
    }
   ],
   "source": [
    "df[df[\"kategori\"] == \"kolam renang\"]"
   ]
  },
  {
   "cell_type": "code",
   "execution_count": 14,
   "metadata": {},
   "outputs": [],
   "source": [
    "df.at[36, \"kategori\"] = \"permandian\""
   ]
  },
  {
   "cell_type": "code",
   "execution_count": 17,
   "metadata": {},
   "outputs": [
    {
     "data": {
      "text/html": [
       "<div>\n",
       "<style scoped>\n",
       "    .dataframe tbody tr th:only-of-type {\n",
       "        vertical-align: middle;\n",
       "    }\n",
       "\n",
       "    .dataframe tbody tr th {\n",
       "        vertical-align: top;\n",
       "    }\n",
       "\n",
       "    .dataframe thead th {\n",
       "        text-align: right;\n",
       "    }\n",
       "</style>\n",
       "<table border=\"1\" class=\"dataframe\">\n",
       "  <thead>\n",
       "    <tr style=\"text-align: right;\">\n",
       "      <th></th>\n",
       "      <th>id</th>\n",
       "      <th>kota</th>\n",
       "      <th>nama</th>\n",
       "      <th>jalan</th>\n",
       "      <th>rating</th>\n",
       "      <th>kategori</th>\n",
       "      <th>review</th>\n",
       "      <th>deskripsi</th>\n",
       "    </tr>\n",
       "  </thead>\n",
       "  <tbody>\n",
       "    <tr>\n",
       "      <th>89</th>\n",
       "      <td>89</td>\n",
       "      <td>parepare</td>\n",
       "      <td>hotel satria wisata</td>\n",
       "      <td>jl. abubakar lambogo no.83, bukit indah, kec. ...</td>\n",
       "      <td>4.2</td>\n",
       "      <td>hotel</td>\n",
       "      <td>wifi,kolam renang</td>\n",
       "      <td>hotel satria wisata adalah sebuah hotel yang t...</td>\n",
       "    </tr>\n",
       "    <tr>\n",
       "      <th>92</th>\n",
       "      <td>92</td>\n",
       "      <td>parepare</td>\n",
       "      <td>hotel pare wisata</td>\n",
       "      <td>jl. sulawesi no.45, ujung sabbang, kec. ujung,...</td>\n",
       "      <td>3.9</td>\n",
       "      <td>hotel</td>\n",
       "      <td>sarapan,wifi</td>\n",
       "      <td>hotel pare wisata adalah sebuah hotel yang ter...</td>\n",
       "    </tr>\n",
       "  </tbody>\n",
       "</table>\n",
       "</div>"
      ],
      "text/plain": [
       "    id      kota                 nama   \n",
       "89  89  parepare  hotel satria wisata  \\\n",
       "92  92  parepare    hotel pare wisata   \n",
       "\n",
       "                                                jalan  rating kategori   \n",
       "89  jl. abubakar lambogo no.83, bukit indah, kec. ...     4.2    hotel  \\\n",
       "92  jl. sulawesi no.45, ujung sabbang, kec. ujung,...     3.9    hotel   \n",
       "\n",
       "               review                                          deskripsi  \n",
       "89  wifi,kolam renang  hotel satria wisata adalah sebuah hotel yang t...  \n",
       "92       sarapan,wifi  hotel pare wisata adalah sebuah hotel yang ter...  "
      ]
     },
     "execution_count": 17,
     "metadata": {},
     "output_type": "execute_result"
    }
   ],
   "source": [
    "df[df[\"kategori\"] == \"hotel\"]"
   ]
  },
  {
   "cell_type": "code",
   "execution_count": 16,
   "metadata": {},
   "outputs": [],
   "source": [
    "df.at[167, \"kategori\"] = \"alam\""
   ]
  },
  {
   "cell_type": "code",
   "execution_count": 18,
   "metadata": {},
   "outputs": [],
   "source": [
    "df.drop(index=[89, 92], inplace=True)"
   ]
  },
  {
   "cell_type": "code",
   "execution_count": 21,
   "metadata": {},
   "outputs": [
    {
     "data": {
      "text/plain": [
       "<Axes: xlabel='kategori'>"
      ]
     },
     "execution_count": 21,
     "metadata": {},
     "output_type": "execute_result"
    },
    {
     "data": {
      "image/png": "[encoded data removed]",
      "text/plain": [
       "<Figure size 640x480 with 1 Axes>"
      ]
     },
     "metadata": {},
     "output_type": "display_data"
    }
   ],
   "source": [
    "df[\"kategori\"].value_counts().plot.bar()"
   ]
  },
  {
   "cell_type": "code",
   "execution_count": 34,
   "metadata": {},
   "outputs": [],
   "source": [
    "df.to_csv(\"clear_dataset.csv\")"
   ]
  },
  {
   "attachments": {},
   "cell_type": "markdown",
   "metadata": {},
   "source": [
    "<h3>Modeling</h3>"
   ]
  },
  {
   "cell_type": "code",
   "execution_count": 22,
   "metadata": {},
   "outputs": [],
   "source": [
    "from sklearn.feature_extraction.text import TfidfVectorizer\n",
    "from sklearn.metrics.pairwise import cosine_similarity\n",
    "# Membuat vektor fitur dengan TF-IDF\n",
    "vectorizer = TfidfVectorizer()\n",
    "tfidf_matrix = vectorizer.fit_transform(df['deskripsi'])"
   ]
  },
  {
   "cell_type": "code",
   "execution_count": 23,
   "metadata": {},
   "outputs": [],
   "source": [
    "# Membuat fungsi rekomendasi\n",
    "def recommend_activities(activity, top_n=10):\n",
    "    # Mengubah aktivitas menjadi vektor fitur dengan TF-IDF\n",
    "    activity_vector = vectorizer.transform([activity])\n",
    "    \n",
    "    # Menghitung similarity antara vektor aktivitas dengan vektor deskripsi wisata\n",
    "    similarity_scores = cosine_similarity(activity_vector, tfidf_matrix).flatten()\n",
    "    \n",
    "    # Mendapatkan indeks rekomendasi berdasarkan similarity scores\n",
    "    top_indices = similarity_scores.argsort()[::-1][:top_n]\n",
    "    \n",
    "    # Mendapatkan rekomendasi wisata berdasarkan indeks\n",
    "    recommended_activities = df.loc[top_indices, [\"id\", 'kota', 'nama', \"kategori\"]].values\n",
    "    \n",
    "    return recommended_activities"
   ]
  },
  {
   "cell_type": "code",
   "execution_count": 24,
   "metadata": {},
   "outputs": [
    {
     "name": "stdout",
     "output_type": "stream",
     "text": [
      "Rekomendasi kegiatan berdasarkan 'gunung':\n",
      "[122 'toraja utara' \"palawa'\" 'museum']\n",
      "[10 'bulukumba' 'kahayya' 'taman']\n",
      "[136 'tana toraja' 'objek wisata ollon toraja' 'alam']\n",
      "[208 'gowa' 'raja ampat bollangi gowa' 'alam']\n",
      "[207 'gowa' 'taman wisata holyland malino' 'alam']\n",
      "[39 'gowa' 'lembah ramma' 'alam']\n",
      "[20 'bone' \"batu goro'e (sumpang labbu)\" 'alam']\n",
      "[4 'bulukumba' \"puncak pua' janggo'\" 'alam']\n",
      "[69 'makassar' 'masjid 99 kubah cpi makassar' 'religi']\n",
      "[70 'makassar' 'ekowisata butta gowa resort - wisata alam bili-bili'\n",
      " 'alam']\n"
     ]
    }
   ],
   "source": [
    "input_activity = 'gunung'\n",
    "recommended_activities = recommend_activities(input_activity)\n",
    "\n",
    "print(f\"Rekomendasi kegiatan berdasarkan '{input_activity}':\")\n",
    "for activity in recommended_activities:\n",
    "    print(activity)"
   ]
  },
  {
   "attachments": {},
   "cell_type": "markdown",
   "metadata": {},
   "source": [
    "<h3>Melakukan Stemming</h3>"
   ]
  },
  {
   "cell_type": "code",
   "execution_count": 25,
   "metadata": {},
   "outputs": [],
   "source": [
    "from Sastrawi.Stemmer.StemmerFactory import StemmerFactory\n",
    "from Sastrawi.StopWordRemover.StopWordRemoverFactory import StopWordRemoverFactory\n",
    "from sklearn.feature_extraction.text import TfidfVectorizer\n",
    "\n",
    "#create stemmer\n",
    "stemmer = StemmerFactory().create_stemmer()\n",
    "stopWord = StopWordRemoverFactory().create_stop_word_remover()"
   ]
  },
  {
   "cell_type": "code",
   "execution_count": 26,
   "metadata": {},
   "outputs": [],
   "source": [
    "def preprocessing(data):\n",
    "    data = data.lower()\n",
    "    data = stemmer.stem(data)\n",
    "    data = stopWord.remove(data)\n",
    "    return data"
   ]
  },
  {
   "cell_type": "code",
   "execution_count": 27,
   "metadata": {},
   "outputs": [],
   "source": [
    "df.deskripsi = df.deskripsi.apply(preprocessing)"
   ]
  },
  {
   "cell_type": "code",
   "execution_count": 28,
   "metadata": {},
   "outputs": [],
   "source": [
    "tfidf_matrix_stemm = vectorizer.fit_transform(df[\"deskripsi\"])"
   ]
  },
  {
   "cell_type": "code",
   "execution_count": 29,
   "metadata": {},
   "outputs": [],
   "source": [
    "def recommend_activities_stem(activity, top_n=2):\n",
    "    # Mengubah activity menjadi bentuk dasar\n",
    "    activity_stem = preprocessing(activity)\n",
    "\n",
    "    # Mengubah aktivitas menjadi vektor fitur dengan TF-IDF\n",
    "    activity_vector_stem = vectorizer.transform([activity_stem])\n",
    "\n",
    "    # Menghitung similarity antara vektor dengan vektor deskripsi wisata\n",
    "    similarity_scores_stem = cosine_similarity(activity_vector_stem, tfidf_matrix_stemm).flatten()\n",
    "\n",
    "    # Mendapatkan indeks rekomendasi berdasarkan similarity scores\n",
    "    top_indices_stem = similarity_scores_stem.argsort()[::-1][:top_n]\n",
    "\n",
    "    # Mendapatkan rekomendasi wisata berdasarkan indeks\n",
    "    recommended_activities_stem = df.loc[top_indices_stem, [\"id\", \"kota\", \"nama\", \"kategori\"]].values\n",
    "\n",
    "    return recommended_activities_stem"
   ]
  },
  {
   "cell_type": "code",
   "execution_count": 33,
   "metadata": {},
   "outputs": [
    {
     "name": "stdout",
     "output_type": "stream",
     "text": [
      "Rekomendasi kegiatan berdasarkan 'gunung':\n",
      "[122 'toraja utara' \"palawa'\" 'museum']\n",
      "[136 'tana toraja' 'objek wisata ollon toraja' 'alam']\n"
     ]
    }
   ],
   "source": [
    "input_activity = 'gunung'\n",
    "recommended_activities = recommend_activities_stem(input_activity)\n",
    "\n",
    "print(f\"Rekomendasi kegiatan berdasarkan '{input_activity}':\")\n",
    "for activity in recommended_activities:\n",
    "    print(activity)"
   ]
  },
  {
   "cell_type": "code",
   "execution_count": null,
   "metadata": {},
   "outputs": [
    {
     "name": "stdout",
     "output_type": "stream",
     "text": [
      "maros\n",
      "[177 179  63]\n"
     ]
    }
   ],
   "source": [
    "# activity_stem = preprocessing(\"di maros\")\n",
    "# print(activity_stem)\n",
    "\n",
    "# # # Mengubah aktivitas menjadi vektor fitur dengan TF-IDF\n",
    "# activity_vector_stem = vectorizer.transform([activity_stem])\n",
    "# # print(activity_vector_stem)\n",
    "\n",
    "# # # Menghitung similarity antara vektor dengan vektor deskripsi wisata\n",
    "# similarity_scores_stem = cosine_similarity(activity_vector_stem, tfidf_matrix_stemm).flatten()\n",
    "# # print(similarity_scores_stem)\n",
    "\n",
    "# # Mendapatkan indeks rekomendasi berdasarkan similarity scores\n",
    "# top_indices_stem = similarity_scores_stem.argsort()[::-1][:3]\n",
    "# print(top_indices_stem)"
   ]
  },
  {
   "cell_type": "code",
   "execution_count": null,
   "metadata": {},
   "outputs": [
    {
     "name": "stdout",
     "output_type": "stream",
     "text": [
      "[[179 'maros' 'maros waterpark' 'permandian']\n",
      " [178 'maros' 'wisata mangambang' 'alam']\n",
      " [177 'maros' 'maros highland' 'alam']\n",
      " [63 'maros' 'pantai kuri maros' 'pantai']\n",
      " [64 'gowa' 'air terjun parangloe' 'air terjun']]\n"
     ]
    }
   ],
   "source": [
    "# recommended_activities_stem = df.loc[top_indices_stem, [\"id\", \"kota\", \"nama\", \"kategori\"]].values\n",
    "# print(recommended_activities_stem)"
   ]
  },
  {
   "cell_type": "code",
   "execution_count": null,
   "metadata": {},
   "outputs": [],
   "source": []
  }
 ],
 "metadata": {
  "kernelspec": {
   "display_name": "myenv",
   "language": "python",
   "name": "python3"
  },
  "language_info": {
   "codemirror_mode": {
    "name": "ipython",
    "version": 3
   },
   "file_extension": ".py",
   "mimetype": "text/x-python",
   "name": "python",
   "nbconvert_exporter": "python",
   "pygments_lexer": "ipython3",
   "version": "3.10.11"
  },
  "orig_nbformat": 4
 },
 "nbformat": 4,
 "nbformat_minor": 2
}
